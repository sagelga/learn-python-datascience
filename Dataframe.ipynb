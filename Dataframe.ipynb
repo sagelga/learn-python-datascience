{
  "cells": [
    {
      "cell_type": "markdown",
      "source": "# Dataframe\n2 dimension data structures in Pandas, which is the core for all Data Science to know how to use on Data Analysis and Cleaning Tasks\n\nThey are two-axes labeled array\n",
      "metadata": {
        "pycharm": {
          "metadata": false
        }
      }
    },
    {
      "cell_type": "markdown",
      "source": "## Creating a Data Frame\nCreate it with `pd.DataFrame()` by throwing in the Series and index (optional)",
      "metadata": {
        "pycharm": {
          "metadata": false,
          "name": "#%% md\n"
        }
      }
    },
    {
      "cell_type": "code",
      "execution_count": 27,
      "outputs": [
        {
          "data": {
            "text/plain": "          Name Item Purchased  Cost\nStore 1  Chris       Dog Food  22.5\nStore 1  Kevyn   Kitty Litter   2.5\nStore 2  Vinod      Bird Seed   5.0",
            "text/html": "\u003cdiv\u003e\n\u003cstyle scoped\u003e\n    .dataframe tbody tr th:only-of-type {\n        vertical-align: middle;\n    }\n\n    .dataframe tbody tr th {\n        vertical-align: top;\n    }\n\n    .dataframe thead th {\n        text-align: right;\n    }\n\u003c/style\u003e\n\u003ctable border\u003d\"1\" class\u003d\"dataframe\"\u003e\n  \u003cthead\u003e\n    \u003ctr style\u003d\"text-align: right;\"\u003e\n      \u003cth\u003e\u003c/th\u003e\n      \u003cth\u003eName\u003c/th\u003e\n      \u003cth\u003eItem Purchased\u003c/th\u003e\n      \u003cth\u003eCost\u003c/th\u003e\n    \u003c/tr\u003e\n  \u003c/thead\u003e\n  \u003ctbody\u003e\n    \u003ctr\u003e\n      \u003cth\u003eStore 1\u003c/th\u003e\n      \u003ctd\u003eChris\u003c/td\u003e\n      \u003ctd\u003eDog Food\u003c/td\u003e\n      \u003ctd\u003e22.5\u003c/td\u003e\n    \u003c/tr\u003e\n    \u003ctr\u003e\n      \u003cth\u003eStore 1\u003c/th\u003e\n      \u003ctd\u003eKevyn\u003c/td\u003e\n      \u003ctd\u003eKitty Litter\u003c/td\u003e\n      \u003ctd\u003e2.5\u003c/td\u003e\n    \u003c/tr\u003e\n    \u003ctr\u003e\n      \u003cth\u003eStore 2\u003c/th\u003e\n      \u003ctd\u003eVinod\u003c/td\u003e\n      \u003ctd\u003eBird Seed\u003c/td\u003e\n      \u003ctd\u003e5.0\u003c/td\u003e\n    \u003c/tr\u003e\n  \u003c/tbody\u003e\n\u003c/table\u003e\n\u003c/div\u003e"
          },
          "metadata": {},
          "output_type": "execute_result",
          "execution_count": 27
        }
      ],
      "source": "import pandas as pd\n\nc1 \u003d pd.Series({\u0027Name\u0027: \u0027Chris\u0027,\n                \u0027Item Purchased\u0027: \u0027Dog Food\u0027,\n                \u0027Cost\u0027: 22.5})\n\nc2 \u003d pd.Series({\u0027Name\u0027: \u0027Kevyn\u0027,\n                \u0027Item Purchased\u0027: \u0027Kitty Litter\u0027,\n                \u0027Cost\u0027: 2.5})\n\nc3 \u003d pd.Series({\u0027Name\u0027: \u0027Vinod\u0027,\n                \u0027Item Purchased\u0027: \u0027Bird Seed\u0027,\n                \u0027Cost\u0027: 5})\n\n# Create a Data Frame\ndf \u003d pd.DataFrame([c1, c2, c3], index\u003d[\u0027Store 1\u0027, \u0027Store 1\u0027, \u0027Store 2\u0027])\ndf.head()",
      "metadata": {
        "pycharm": {
          "metadata": false,
          "name": "#%%\n",
          "is_executing": false
        }
      }
    },
    {
      "cell_type": "markdown",
      "source": "Similar to Series, it can be called using `loc()` and `iloc()` attribute",
      "metadata": {
        "pycharm": {
          "metadata": false
        }
      }
    },
    {
      "cell_type": "code",
      "execution_count": 8,
      "outputs": [
        {
          "data": {
            "text/plain": "Name                  Vinod\nItem Purchased    Bird Seed\nCost                      5\nName: Store 2, dtype: object"
          },
          "metadata": {},
          "output_type": "execute_result",
          "execution_count": 8
        }
      ],
      "source": "df.loc[\u0027Store 2\u0027]",
      "metadata": {
        "pycharm": {
          "metadata": false,
          "name": "#%%\n",
          "is_executing": false
        }
      }
    },
    {
      "cell_type": "code",
      "execution_count": 9,
      "outputs": [
        {
          "data": {
            "text/plain": "          Name Item Purchased  Cost\nStore 1  Chris       Dog Food  22.5\nStore 1  Kevyn   Kitty Litter   2.5",
            "text/html": "\u003cdiv\u003e\n\u003cstyle scoped\u003e\n    .dataframe tbody tr th:only-of-type {\n        vertical-align: middle;\n    }\n\n    .dataframe tbody tr th {\n        vertical-align: top;\n    }\n\n    .dataframe thead th {\n        text-align: right;\n    }\n\u003c/style\u003e\n\u003ctable border\u003d\"1\" class\u003d\"dataframe\"\u003e\n  \u003cthead\u003e\n    \u003ctr style\u003d\"text-align: right;\"\u003e\n      \u003cth\u003e\u003c/th\u003e\n      \u003cth\u003eName\u003c/th\u003e\n      \u003cth\u003eItem Purchased\u003c/th\u003e\n      \u003cth\u003eCost\u003c/th\u003e\n    \u003c/tr\u003e\n  \u003c/thead\u003e\n  \u003ctbody\u003e\n    \u003ctr\u003e\n      \u003cth\u003eStore 1\u003c/th\u003e\n      \u003ctd\u003eChris\u003c/td\u003e\n      \u003ctd\u003eDog Food\u003c/td\u003e\n      \u003ctd\u003e22.5\u003c/td\u003e\n    \u003c/tr\u003e\n    \u003ctr\u003e\n      \u003cth\u003eStore 1\u003c/th\u003e\n      \u003ctd\u003eKevyn\u003c/td\u003e\n      \u003ctd\u003eKitty Litter\u003c/td\u003e\n      \u003ctd\u003e2.5\u003c/td\u003e\n    \u003c/tr\u003e\n  \u003c/tbody\u003e\n\u003c/table\u003e\n\u003c/div\u003e"
          },
          "metadata": {},
          "output_type": "execute_result",
          "execution_count": 9
        }
      ],
      "source": "df.loc[\u0027Store 1\u0027]",
      "metadata": {
        "pycharm": {
          "metadata": false,
          "name": "#%%\n",
          "is_executing": false
        }
      }
    },
    {
      "cell_type": "code",
      "source": "df[\u0027Item Purchased\u0027]",
      "metadata": {
        "pycharm": {
          "metadata": false,
          "name": "#%% \n",
          "is_executing": false
        }
      },
      "execution_count": 10,
      "outputs": [
        {
          "data": {
            "text/plain": "Store 1        Dog Food\nStore 1    Kitty Litter\nStore 2       Bird Seed\nName: Item Purchased, dtype: object"
          },
          "metadata": {},
          "output_type": "execute_result",
          "execution_count": 10
        }
      ]
    },
    {
      "cell_type": "markdown",
      "source": "## Chain operation",
      "metadata": {
        "pycharm": {
          "metadata": false
        }
      }
    },
    {
      "cell_type": "code",
      "execution_count": 12,
      "outputs": [
        {
          "data": {
            "text/plain": "Store 1    22.5\nStore 1     2.5\nName: Cost, dtype: float64"
          },
          "metadata": {},
          "output_type": "execute_result",
          "execution_count": 12
        }
      ],
      "source": "# If we only interested in Store 1 costs, we could write it as df.loc(\u0027Store 1\u0027, \u0027Cost\u0027)\ndf.loc[\u0027Store 1\u0027][\u0027Cost\u0027]\n\n# or to use \n# df.loc(\u0027Store 1\u0027, \u0027Cost\u0027)",
      "metadata": {
        "pycharm": {
          "metadata": false,
          "name": "#%%\n",
          "is_executing": false
        }
      }
    },
    {
      "cell_type": "markdown",
      "source": "## Index Dataframe Slicing\nWith the `loc()` has two parameter (index and column), you can fill in the parameter with a list to get multiple values.\n\nFor example, get all values, but only Name and Cost",
      "metadata": {
        "pycharm": {
          "metadata": false,
          "name": "#%% md\n"
        }
      }
    },
    {
      "cell_type": "code",
      "execution_count": 13,
      "outputs": [
        {
          "data": {
            "text/plain": "          Name  Cost\nStore 1  Chris  22.5\nStore 1  Kevyn   2.5\nStore 2  Vinod   5.0",
            "text/html": "\u003cdiv\u003e\n\u003cstyle scoped\u003e\n    .dataframe tbody tr th:only-of-type {\n        vertical-align: middle;\n    }\n\n    .dataframe tbody tr th {\n        vertical-align: top;\n    }\n\n    .dataframe thead th {\n        text-align: right;\n    }\n\u003c/style\u003e\n\u003ctable border\u003d\"1\" class\u003d\"dataframe\"\u003e\n  \u003cthead\u003e\n    \u003ctr style\u003d\"text-align: right;\"\u003e\n      \u003cth\u003e\u003c/th\u003e\n      \u003cth\u003eName\u003c/th\u003e\n      \u003cth\u003eCost\u003c/th\u003e\n    \u003c/tr\u003e\n  \u003c/thead\u003e\n  \u003ctbody\u003e\n    \u003ctr\u003e\n      \u003cth\u003eStore 1\u003c/th\u003e\n      \u003ctd\u003eChris\u003c/td\u003e\n      \u003ctd\u003e22.5\u003c/td\u003e\n    \u003c/tr\u003e\n    \u003ctr\u003e\n      \u003cth\u003eStore 1\u003c/th\u003e\n      \u003ctd\u003eKevyn\u003c/td\u003e\n      \u003ctd\u003e2.5\u003c/td\u003e\n    \u003c/tr\u003e\n    \u003ctr\u003e\n      \u003cth\u003eStore 2\u003c/th\u003e\n      \u003ctd\u003eVinod\u003c/td\u003e\n      \u003ctd\u003e5.0\u003c/td\u003e\n    \u003c/tr\u003e\n  \u003c/tbody\u003e\n\u003c/table\u003e\n\u003c/div\u003e"
          },
          "metadata": {},
          "output_type": "execute_result",
          "execution_count": 13
        }
      ],
      "source": "# Choose some column by all rows\ndf.loc[:, [\u0027Name\u0027, \u0027Cost\u0027]]",
      "metadata": {
        "pycharm": {
          "metadata": false,
          "name": "#%%\n",
          "is_executing": false
        }
      }
    },
    {
      "cell_type": "markdown",
      "source": "## Dropping Data\nDrop a data with a `drop()` function.\nThis takes a single parameter of a index to drop.\n\nDrop function doesnt change the DataFrame by default,\nbut returns you the **copy** of the dataframe with the given rows are removed\n\nDrop has optional parameter,\n- `place` : if set True, DataFrame will be updated in place (instead of a copy)\n- `axis`: (default \u003d 0 : dropping a row (index) and can be changed to 1 to drop column",
      "metadata": {
        "pycharm": {
          "metadata": false
        }
      }
    },
    {
      "cell_type": "code",
      "execution_count": 28,
      "outputs": [
        {
          "data": {
            "text/plain": "          Name Item Purchased  Cost\nStore 2  Vinod      Bird Seed   5.0",
            "text/html": "\u003cdiv\u003e\n\u003cstyle scoped\u003e\n    .dataframe tbody tr th:only-of-type {\n        vertical-align: middle;\n    }\n\n    .dataframe tbody tr th {\n        vertical-align: top;\n    }\n\n    .dataframe thead th {\n        text-align: right;\n    }\n\u003c/style\u003e\n\u003ctable border\u003d\"1\" class\u003d\"dataframe\"\u003e\n  \u003cthead\u003e\n    \u003ctr style\u003d\"text-align: right;\"\u003e\n      \u003cth\u003e\u003c/th\u003e\n      \u003cth\u003eName\u003c/th\u003e\n      \u003cth\u003eItem Purchased\u003c/th\u003e\n      \u003cth\u003eCost\u003c/th\u003e\n    \u003c/tr\u003e\n  \u003c/thead\u003e\n  \u003ctbody\u003e\n    \u003ctr\u003e\n      \u003cth\u003eStore 2\u003c/th\u003e\n      \u003ctd\u003eVinod\u003c/td\u003e\n      \u003ctd\u003eBird Seed\u003c/td\u003e\n      \u003ctd\u003e5.0\u003c/td\u003e\n    \u003c/tr\u003e\n  \u003c/tbody\u003e\n\u003c/table\u003e\n\u003c/div\u003e"
          },
          "metadata": {},
          "output_type": "execute_result",
          "execution_count": 28
        }
      ],
      "source": "dfcopy \u003d df.copy().drop(\u0027Store 1\u0027) # Copy a DataFrame with `df.copy(_`\ndfcopy",
      "metadata": {
        "pycharm": {
          "metadata": false,
          "name": "#%%\n",
          "is_executing": false
        }
      }
    },
    {
      "cell_type": "markdown",
      "source": "## Dropping a column\nOne way of dropping a column is through the use of indexing operator `del` keyword.\n\n`del` takes effect immediately and does not return a view",
      "metadata": {
        "pycharm": {
          "metadata": false,
          "name": "#%% md\n",
          "is_executing": false
        }
      }
    },
    {
      "cell_type": "code",
      "execution_count": null,
      "outputs": [],
      "source": "del dfcopy[\u0027Name\u0027]\ndfcopy",
      "metadata": {
        "pycharm": {
          "metadata": false,
          "name": "#%%\n"
        }
      }
    },
    {
      "cell_type": "code",
      "execution_count": 25,
      "outputs": [
        {
          "data": {
            "text/plain": "        Item Purchased  Cost Location\nStore 1       Dog Food  22.5     None\nStore 1   Kitty Litter   2.5     None\nStore 2      Bird Seed   5.0     None",
            "text/html": "\u003cdiv\u003e\n\u003cstyle scoped\u003e\n    .dataframe tbody tr th:only-of-type {\n        vertical-align: middle;\n    }\n\n    .dataframe tbody tr th {\n        vertical-align: top;\n    }\n\n    .dataframe thead th {\n        text-align: right;\n    }\n\u003c/style\u003e\n\u003ctable border\u003d\"1\" class\u003d\"dataframe\"\u003e\n  \u003cthead\u003e\n    \u003ctr style\u003d\"text-align: right;\"\u003e\n      \u003cth\u003e\u003c/th\u003e\n      \u003cth\u003eItem Purchased\u003c/th\u003e\n      \u003cth\u003eCost\u003c/th\u003e\n      \u003cth\u003eLocation\u003c/th\u003e\n    \u003c/tr\u003e\n  \u003c/thead\u003e\n  \u003ctbody\u003e\n    \u003ctr\u003e\n      \u003cth\u003eStore 1\u003c/th\u003e\n      \u003ctd\u003eDog Food\u003c/td\u003e\n      \u003ctd\u003e22.5\u003c/td\u003e\n      \u003ctd\u003eNone\u003c/td\u003e\n    \u003c/tr\u003e\n    \u003ctr\u003e\n      \u003cth\u003eStore 1\u003c/th\u003e\n      \u003ctd\u003eKitty Litter\u003c/td\u003e\n      \u003ctd\u003e2.5\u003c/td\u003e\n      \u003ctd\u003eNone\u003c/td\u003e\n    \u003c/tr\u003e\n    \u003ctr\u003e\n      \u003cth\u003eStore 2\u003c/th\u003e\n      \u003ctd\u003eBird Seed\u003c/td\u003e\n      \u003ctd\u003e5.0\u003c/td\u003e\n      \u003ctd\u003eNone\u003c/td\u003e\n    \u003c/tr\u003e\n  \u003c/tbody\u003e\n\u003c/table\u003e\n\u003c/div\u003e"
          },
          "metadata": {},
          "output_type": "execute_result",
          "execution_count": 25
        }
      ],
      "source": "dfcopy \u003d df.copy()\ndfcopy\ndfcopy.drop(\u0027Name\u0027, axis\u003d1)",
      "metadata": {
        "pycharm": {
          "metadata": false,
          "name": "#%%\n",
          "is_executing": false
        }
      }
    },
    {
      "cell_type": "markdown",
      "source": "## Adding a column\nas easy as adding it with Broadcasting to the new column",
      "metadata": {
        "pycharm": {
          "metadata": false
        }
      }
    },
    {
      "cell_type": "code",
      "execution_count": 23,
      "outputs": [
        {
          "data": {
            "text/plain": "          Name Item Purchased  Cost Location\nStore 1  Chris       Dog Food  22.5     None\nStore 1  Kevyn   Kitty Litter   2.5     None\nStore 2  Vinod      Bird Seed   5.0     None",
            "text/html": "\u003cdiv\u003e\n\u003cstyle scoped\u003e\n    .dataframe tbody tr th:only-of-type {\n        vertical-align: middle;\n    }\n\n    .dataframe tbody tr th {\n        vertical-align: top;\n    }\n\n    .dataframe thead th {\n        text-align: right;\n    }\n\u003c/style\u003e\n\u003ctable border\u003d\"1\" class\u003d\"dataframe\"\u003e\n  \u003cthead\u003e\n    \u003ctr style\u003d\"text-align: right;\"\u003e\n      \u003cth\u003e\u003c/th\u003e\n      \u003cth\u003eName\u003c/th\u003e\n      \u003cth\u003eItem Purchased\u003c/th\u003e\n      \u003cth\u003eCost\u003c/th\u003e\n      \u003cth\u003eLocation\u003c/th\u003e\n    \u003c/tr\u003e\n  \u003c/thead\u003e\n  \u003ctbody\u003e\n    \u003ctr\u003e\n      \u003cth\u003eStore 1\u003c/th\u003e\n      \u003ctd\u003eChris\u003c/td\u003e\n      \u003ctd\u003eDog Food\u003c/td\u003e\n      \u003ctd\u003e22.5\u003c/td\u003e\n      \u003ctd\u003eNone\u003c/td\u003e\n    \u003c/tr\u003e\n    \u003ctr\u003e\n      \u003cth\u003eStore 1\u003c/th\u003e\n      \u003ctd\u003eKevyn\u003c/td\u003e\n      \u003ctd\u003eKitty Litter\u003c/td\u003e\n      \u003ctd\u003e2.5\u003c/td\u003e\n      \u003ctd\u003eNone\u003c/td\u003e\n    \u003c/tr\u003e\n    \u003ctr\u003e\n      \u003cth\u003eStore 2\u003c/th\u003e\n      \u003ctd\u003eVinod\u003c/td\u003e\n      \u003ctd\u003eBird Seed\u003c/td\u003e\n      \u003ctd\u003e5.0\u003c/td\u003e\n      \u003ctd\u003eNone\u003c/td\u003e\n    \u003c/tr\u003e\n  \u003c/tbody\u003e\n\u003c/table\u003e\n\u003c/div\u003e"
          },
          "metadata": {},
          "output_type": "execute_result",
          "execution_count": 23
        }
      ],
      "source": "df[\u0027Location\u0027] \u003d None\ndf",
      "metadata": {
        "pycharm": {
          "metadata": false,
          "name": "#%%\n",
          "is_executing": false
        }
      }
    },
    {
      "cell_type": "markdown",
      "source": "## Dataframe Indexing\nThe common workflow is :\n\nRead data -\u003e Dataframe -\u003e Reduce dataframe to columns that you are interested in\n\nBut it means that manipulating the data on dataframe will effect base dataframe you use",
      "metadata": {
        "pycharm": {
          "metadata": false
        }
      }
    },
    {
      "cell_type": "code",
      "execution_count": 34,
      "outputs": [
        {
          "data": {
            "text/plain": "          Name Item Purchased  Cost Location\nStore 1  Chris       Dog Food  22.5     None\nStore 1  Kevyn   Kitty Litter   2.5     None\nStore 2  Vinod      Bird Seed   5.0     None",
            "text/html": "\u003cdiv\u003e\n\u003cstyle scoped\u003e\n    .dataframe tbody tr th:only-of-type {\n        vertical-align: middle;\n    }\n\n    .dataframe tbody tr th {\n        vertical-align: top;\n    }\n\n    .dataframe thead th {\n        text-align: right;\n    }\n\u003c/style\u003e\n\u003ctable border\u003d\"1\" class\u003d\"dataframe\"\u003e\n  \u003cthead\u003e\n    \u003ctr style\u003d\"text-align: right;\"\u003e\n      \u003cth\u003e\u003c/th\u003e\n      \u003cth\u003eName\u003c/th\u003e\n      \u003cth\u003eItem Purchased\u003c/th\u003e\n      \u003cth\u003eCost\u003c/th\u003e\n      \u003cth\u003eLocation\u003c/th\u003e\n    \u003c/tr\u003e\n  \u003c/thead\u003e\n  \u003ctbody\u003e\n    \u003ctr\u003e\n      \u003cth\u003eStore 1\u003c/th\u003e\n      \u003ctd\u003eChris\u003c/td\u003e\n      \u003ctd\u003eDog Food\u003c/td\u003e\n      \u003ctd\u003e22.5\u003c/td\u003e\n      \u003ctd\u003eNone\u003c/td\u003e\n    \u003c/tr\u003e\n    \u003ctr\u003e\n      \u003cth\u003eStore 1\u003c/th\u003e\n      \u003ctd\u003eKevyn\u003c/td\u003e\n      \u003ctd\u003eKitty Litter\u003c/td\u003e\n      \u003ctd\u003e2.5\u003c/td\u003e\n      \u003ctd\u003eNone\u003c/td\u003e\n    \u003c/tr\u003e\n    \u003ctr\u003e\n      \u003cth\u003eStore 2\u003c/th\u003e\n      \u003ctd\u003eVinod\u003c/td\u003e\n      \u003ctd\u003eBird Seed\u003c/td\u003e\n      \u003ctd\u003e5.0\u003c/td\u003e\n      \u003ctd\u003eNone\u003c/td\u003e\n    \u003c/tr\u003e\n  \u003c/tbody\u003e\n\u003c/table\u003e\n\u003c/div\u003e"
          },
          "metadata": {},
          "output_type": "execute_result",
          "execution_count": 34
        }
      ],
      "source": "df",
      "metadata": {
        "pycharm": {
          "metadata": false,
          "name": "#%%\n",
          "is_executing": false
        }
      }
    },
    {
      "cell_type": "code",
      "execution_count": 35,
      "outputs": [
        {
          "data": {
            "text/plain": "          Name Item Purchased  Cost Location\nStore 1  Chris       Dog Food  24.5     None\nStore 1  Kevyn   Kitty Litter   4.5     None\nStore 2  Vinod      Bird Seed   7.0     None",
            "text/html": "\u003cdiv\u003e\n\u003cstyle scoped\u003e\n    .dataframe tbody tr th:only-of-type {\n        vertical-align: middle;\n    }\n\n    .dataframe tbody tr th {\n        vertical-align: top;\n    }\n\n    .dataframe thead th {\n        text-align: right;\n    }\n\u003c/style\u003e\n\u003ctable border\u003d\"1\" class\u003d\"dataframe\"\u003e\n  \u003cthead\u003e\n    \u003ctr style\u003d\"text-align: right;\"\u003e\n      \u003cth\u003e\u003c/th\u003e\n      \u003cth\u003eName\u003c/th\u003e\n      \u003cth\u003eItem Purchased\u003c/th\u003e\n      \u003cth\u003eCost\u003c/th\u003e\n      \u003cth\u003eLocation\u003c/th\u003e\n    \u003c/tr\u003e\n  \u003c/thead\u003e\n  \u003ctbody\u003e\n    \u003ctr\u003e\n      \u003cth\u003eStore 1\u003c/th\u003e\n      \u003ctd\u003eChris\u003c/td\u003e\n      \u003ctd\u003eDog Food\u003c/td\u003e\n      \u003ctd\u003e24.5\u003c/td\u003e\n      \u003ctd\u003eNone\u003c/td\u003e\n    \u003c/tr\u003e\n    \u003ctr\u003e\n      \u003cth\u003eStore 1\u003c/th\u003e\n      \u003ctd\u003eKevyn\u003c/td\u003e\n      \u003ctd\u003eKitty Litter\u003c/td\u003e\n      \u003ctd\u003e4.5\u003c/td\u003e\n      \u003ctd\u003eNone\u003c/td\u003e\n    \u003c/tr\u003e\n    \u003ctr\u003e\n      \u003cth\u003eStore 2\u003c/th\u003e\n      \u003ctd\u003eVinod\u003c/td\u003e\n      \u003ctd\u003eBird Seed\u003c/td\u003e\n      \u003ctd\u003e7.0\u003c/td\u003e\n      \u003ctd\u003eNone\u003c/td\u003e\n    \u003c/tr\u003e\n  \u003c/tbody\u003e\n\u003c/table\u003e\n\u003c/div\u003e"
          },
          "metadata": {},
          "output_type": "execute_result",
          "execution_count": 35
        }
      ],
      "source": "costs \u003d df[\u0027Cost\u0027]\ncosts +\u003d 2\ndf",
      "metadata": {
        "pycharm": {
          "metadata": false,
          "name": "#%%\n",
          "is_executing": false
        }
      }
    },
    {
      "cell_type": "markdown",
      "source": "## Reading a CSV file",
      "metadata": {
        "pycharm": {
          "metadata": false,
          "name": "#%% md\n"
        }
      }
    },
    {
      "cell_type": "code",
      "execution_count": 37,
      "outputs": [
        {
          "data": {
            "text/plain": "                         № Summer  01 !  02 !  03 !  Total  № Winter  01 !.1  \\\nAfghanistan (AFG)              13     0     0     2      2         0       0   \nAlgeria (ALG)                  12     5     2     8     15         3       0   \nArgentina (ARG)                23    18    24    28     70        18       0   \nArmenia (ARM)                   5     1     2     9     12         6       0   \nAustralasia (ANZ) [ANZ]         2     3     4     5     12         0       0   \n\n                         02 !.1  03 !.1  Total.1  № Games  01 !.2  02 !.2  \\\nAfghanistan (AFG)             0       0        0       13       0       0   \nAlgeria (ALG)                 0       0        0       15       5       2   \nArgentina (ARG)               0       0        0       41      18      24   \nArmenia (ARM)                 0       0        0       11       1       2   \nAustralasia (ANZ) [ANZ]       0       0        0        2       3       4   \n\n                         03 !.2  Combined total  \nAfghanistan (AFG)             2               2  \nAlgeria (ALG)                 8              15  \nArgentina (ARG)              28              70  \nArmenia (ARM)                 9              12  \nAustralasia (ANZ) [ANZ]       5              12  ",
            "text/html": "\u003cdiv\u003e\n\u003cstyle scoped\u003e\n    .dataframe tbody tr th:only-of-type {\n        vertical-align: middle;\n    }\n\n    .dataframe tbody tr th {\n        vertical-align: top;\n    }\n\n    .dataframe thead th {\n        text-align: right;\n    }\n\u003c/style\u003e\n\u003ctable border\u003d\"1\" class\u003d\"dataframe\"\u003e\n  \u003cthead\u003e\n    \u003ctr style\u003d\"text-align: right;\"\u003e\n      \u003cth\u003e\u003c/th\u003e\n      \u003cth\u003e№ Summer\u003c/th\u003e\n      \u003cth\u003e01 !\u003c/th\u003e\n      \u003cth\u003e02 !\u003c/th\u003e\n      \u003cth\u003e03 !\u003c/th\u003e\n      \u003cth\u003eTotal\u003c/th\u003e\n      \u003cth\u003e№ Winter\u003c/th\u003e\n      \u003cth\u003e01 !.1\u003c/th\u003e\n      \u003cth\u003e02 !.1\u003c/th\u003e\n      \u003cth\u003e03 !.1\u003c/th\u003e\n      \u003cth\u003eTotal.1\u003c/th\u003e\n      \u003cth\u003e№ Games\u003c/th\u003e\n      \u003cth\u003e01 !.2\u003c/th\u003e\n      \u003cth\u003e02 !.2\u003c/th\u003e\n      \u003cth\u003e03 !.2\u003c/th\u003e\n      \u003cth\u003eCombined total\u003c/th\u003e\n    \u003c/tr\u003e\n  \u003c/thead\u003e\n  \u003ctbody\u003e\n    \u003ctr\u003e\n      \u003cth\u003eAfghanistan (AFG)\u003c/th\u003e\n      \u003ctd\u003e13\u003c/td\u003e\n      \u003ctd\u003e0\u003c/td\u003e\n      \u003ctd\u003e0\u003c/td\u003e\n      \u003ctd\u003e2\u003c/td\u003e\n      \u003ctd\u003e2\u003c/td\u003e\n      \u003ctd\u003e0\u003c/td\u003e\n      \u003ctd\u003e0\u003c/td\u003e\n      \u003ctd\u003e0\u003c/td\u003e\n      \u003ctd\u003e0\u003c/td\u003e\n      \u003ctd\u003e0\u003c/td\u003e\n      \u003ctd\u003e13\u003c/td\u003e\n      \u003ctd\u003e0\u003c/td\u003e\n      \u003ctd\u003e0\u003c/td\u003e\n      \u003ctd\u003e2\u003c/td\u003e\n      \u003ctd\u003e2\u003c/td\u003e\n    \u003c/tr\u003e\n    \u003ctr\u003e\n      \u003cth\u003eAlgeria (ALG)\u003c/th\u003e\n      \u003ctd\u003e12\u003c/td\u003e\n      \u003ctd\u003e5\u003c/td\u003e\n      \u003ctd\u003e2\u003c/td\u003e\n      \u003ctd\u003e8\u003c/td\u003e\n      \u003ctd\u003e15\u003c/td\u003e\n      \u003ctd\u003e3\u003c/td\u003e\n      \u003ctd\u003e0\u003c/td\u003e\n      \u003ctd\u003e0\u003c/td\u003e\n      \u003ctd\u003e0\u003c/td\u003e\n      \u003ctd\u003e0\u003c/td\u003e\n      \u003ctd\u003e15\u003c/td\u003e\n      \u003ctd\u003e5\u003c/td\u003e\n      \u003ctd\u003e2\u003c/td\u003e\n      \u003ctd\u003e8\u003c/td\u003e\n      \u003ctd\u003e15\u003c/td\u003e\n    \u003c/tr\u003e\n    \u003ctr\u003e\n      \u003cth\u003eArgentina (ARG)\u003c/th\u003e\n      \u003ctd\u003e23\u003c/td\u003e\n      \u003ctd\u003e18\u003c/td\u003e\n      \u003ctd\u003e24\u003c/td\u003e\n      \u003ctd\u003e28\u003c/td\u003e\n      \u003ctd\u003e70\u003c/td\u003e\n      \u003ctd\u003e18\u003c/td\u003e\n      \u003ctd\u003e0\u003c/td\u003e\n      \u003ctd\u003e0\u003c/td\u003e\n      \u003ctd\u003e0\u003c/td\u003e\n      \u003ctd\u003e0\u003c/td\u003e\n      \u003ctd\u003e41\u003c/td\u003e\n      \u003ctd\u003e18\u003c/td\u003e\n      \u003ctd\u003e24\u003c/td\u003e\n      \u003ctd\u003e28\u003c/td\u003e\n      \u003ctd\u003e70\u003c/td\u003e\n    \u003c/tr\u003e\n    \u003ctr\u003e\n      \u003cth\u003eArmenia (ARM)\u003c/th\u003e\n      \u003ctd\u003e5\u003c/td\u003e\n      \u003ctd\u003e1\u003c/td\u003e\n      \u003ctd\u003e2\u003c/td\u003e\n      \u003ctd\u003e9\u003c/td\u003e\n      \u003ctd\u003e12\u003c/td\u003e\n      \u003ctd\u003e6\u003c/td\u003e\n      \u003ctd\u003e0\u003c/td\u003e\n      \u003ctd\u003e0\u003c/td\u003e\n      \u003ctd\u003e0\u003c/td\u003e\n      \u003ctd\u003e0\u003c/td\u003e\n      \u003ctd\u003e11\u003c/td\u003e\n      \u003ctd\u003e1\u003c/td\u003e\n      \u003ctd\u003e2\u003c/td\u003e\n      \u003ctd\u003e9\u003c/td\u003e\n      \u003ctd\u003e12\u003c/td\u003e\n    \u003c/tr\u003e\n    \u003ctr\u003e\n      \u003cth\u003eAustralasia (ANZ) [ANZ]\u003c/th\u003e\n      \u003ctd\u003e2\u003c/td\u003e\n      \u003ctd\u003e3\u003c/td\u003e\n      \u003ctd\u003e4\u003c/td\u003e\n      \u003ctd\u003e5\u003c/td\u003e\n      \u003ctd\u003e12\u003c/td\u003e\n      \u003ctd\u003e0\u003c/td\u003e\n      \u003ctd\u003e0\u003c/td\u003e\n      \u003ctd\u003e0\u003c/td\u003e\n      \u003ctd\u003e0\u003c/td\u003e\n      \u003ctd\u003e0\u003c/td\u003e\n      \u003ctd\u003e2\u003c/td\u003e\n      \u003ctd\u003e3\u003c/td\u003e\n      \u003ctd\u003e4\u003c/td\u003e\n      \u003ctd\u003e5\u003c/td\u003e\n      \u003ctd\u003e12\u003c/td\u003e\n    \u003c/tr\u003e\n  \u003c/tbody\u003e\n\u003c/table\u003e\n\u003c/div\u003e"
          },
          "metadata": {},
          "output_type": "execute_result",
          "execution_count": 37
        }
      ],
      "source": "df \u003d pd.read_csv(\u0027Resource/olympics.csv\u0027,\n                 index_col\u003d0,\n                 skiprows\u003d1)\n# Use index_col to set the row number that is a index\n# Use skiprows to skip unwanted rows\ndf.head()",
      "metadata": {
        "pycharm": {
          "metadata": false,
          "name": "#%%\n",
          "is_executing": false
        }
      }
    },
    {
      "cell_type": "markdown",
      "source": "## Set column name\nYou can set the column name in the CSV\nor you can set it with name property",
      "metadata": {
        "pycharm": {
          "metadata": false,
          "name": "#%% md\n"
        }
      }
    },
    {
      "cell_type": "code",
      "execution_count": 43,
      "outputs": [
        {
          "data": {
            "text/plain": "                         № Summer  Gold  Silver  Bronze  Total  № Winter  \\\nAfghanistan (AFG)              13     0       0       2      2         0   \nAlgeria (ALG)                  12     5       2       8     15         3   \nArgentina (ARG)                23    18      24      28     70        18   \nArmenia (ARM)                   5     1       2       9     12         6   \nAustralasia (ANZ) [ANZ]         2     3       4       5     12         0   \n\n                         Gold.1  Silver.1  Bronze.1  Total.1  № Games  Gold.2  \\\nAfghanistan (AFG)             0         0         0        0       13       0   \nAlgeria (ALG)                 0         0         0        0       15       5   \nArgentina (ARG)               0         0         0        0       41      18   \nArmenia (ARM)                 0         0         0        0       11       1   \nAustralasia (ANZ) [ANZ]       0         0         0        0        2       3   \n\n                         Silver.2  Bronze.2  Combined total  \nAfghanistan (AFG)               0         2               2  \nAlgeria (ALG)                   2         8              15  \nArgentina (ARG)                24        28              70  \nArmenia (ARM)                   2         9              12  \nAustralasia (ANZ) [ANZ]         4         5              12  ",
            "text/html": "\u003cdiv\u003e\n\u003cstyle scoped\u003e\n    .dataframe tbody tr th:only-of-type {\n        vertical-align: middle;\n    }\n\n    .dataframe tbody tr th {\n        vertical-align: top;\n    }\n\n    .dataframe thead th {\n        text-align: right;\n    }\n\u003c/style\u003e\n\u003ctable border\u003d\"1\" class\u003d\"dataframe\"\u003e\n  \u003cthead\u003e\n    \u003ctr style\u003d\"text-align: right;\"\u003e\n      \u003cth\u003e\u003c/th\u003e\n      \u003cth\u003e№ Summer\u003c/th\u003e\n      \u003cth\u003eGold\u003c/th\u003e\n      \u003cth\u003eSilver\u003c/th\u003e\n      \u003cth\u003eBronze\u003c/th\u003e\n      \u003cth\u003eTotal\u003c/th\u003e\n      \u003cth\u003e№ Winter\u003c/th\u003e\n      \u003cth\u003eGold.1\u003c/th\u003e\n      \u003cth\u003eSilver.1\u003c/th\u003e\n      \u003cth\u003eBronze.1\u003c/th\u003e\n      \u003cth\u003eTotal.1\u003c/th\u003e\n      \u003cth\u003e№ Games\u003c/th\u003e\n      \u003cth\u003eGold.2\u003c/th\u003e\n      \u003cth\u003eSilver.2\u003c/th\u003e\n      \u003cth\u003eBronze.2\u003c/th\u003e\n      \u003cth\u003eCombined total\u003c/th\u003e\n    \u003c/tr\u003e\n  \u003c/thead\u003e\n  \u003ctbody\u003e\n    \u003ctr\u003e\n      \u003cth\u003eAfghanistan (AFG)\u003c/th\u003e\n      \u003ctd\u003e13\u003c/td\u003e\n      \u003ctd\u003e0\u003c/td\u003e\n      \u003ctd\u003e0\u003c/td\u003e\n      \u003ctd\u003e2\u003c/td\u003e\n      \u003ctd\u003e2\u003c/td\u003e\n      \u003ctd\u003e0\u003c/td\u003e\n      \u003ctd\u003e0\u003c/td\u003e\n      \u003ctd\u003e0\u003c/td\u003e\n      \u003ctd\u003e0\u003c/td\u003e\n      \u003ctd\u003e0\u003c/td\u003e\n      \u003ctd\u003e13\u003c/td\u003e\n      \u003ctd\u003e0\u003c/td\u003e\n      \u003ctd\u003e0\u003c/td\u003e\n      \u003ctd\u003e2\u003c/td\u003e\n      \u003ctd\u003e2\u003c/td\u003e\n    \u003c/tr\u003e\n    \u003ctr\u003e\n      \u003cth\u003eAlgeria (ALG)\u003c/th\u003e\n      \u003ctd\u003e12\u003c/td\u003e\n      \u003ctd\u003e5\u003c/td\u003e\n      \u003ctd\u003e2\u003c/td\u003e\n      \u003ctd\u003e8\u003c/td\u003e\n      \u003ctd\u003e15\u003c/td\u003e\n      \u003ctd\u003e3\u003c/td\u003e\n      \u003ctd\u003e0\u003c/td\u003e\n      \u003ctd\u003e0\u003c/td\u003e\n      \u003ctd\u003e0\u003c/td\u003e\n      \u003ctd\u003e0\u003c/td\u003e\n      \u003ctd\u003e15\u003c/td\u003e\n      \u003ctd\u003e5\u003c/td\u003e\n      \u003ctd\u003e2\u003c/td\u003e\n      \u003ctd\u003e8\u003c/td\u003e\n      \u003ctd\u003e15\u003c/td\u003e\n    \u003c/tr\u003e\n    \u003ctr\u003e\n      \u003cth\u003eArgentina (ARG)\u003c/th\u003e\n      \u003ctd\u003e23\u003c/td\u003e\n      \u003ctd\u003e18\u003c/td\u003e\n      \u003ctd\u003e24\u003c/td\u003e\n      \u003ctd\u003e28\u003c/td\u003e\n      \u003ctd\u003e70\u003c/td\u003e\n      \u003ctd\u003e18\u003c/td\u003e\n      \u003ctd\u003e0\u003c/td\u003e\n      \u003ctd\u003e0\u003c/td\u003e\n      \u003ctd\u003e0\u003c/td\u003e\n      \u003ctd\u003e0\u003c/td\u003e\n      \u003ctd\u003e41\u003c/td\u003e\n      \u003ctd\u003e18\u003c/td\u003e\n      \u003ctd\u003e24\u003c/td\u003e\n      \u003ctd\u003e28\u003c/td\u003e\n      \u003ctd\u003e70\u003c/td\u003e\n    \u003c/tr\u003e\n    \u003ctr\u003e\n      \u003cth\u003eArmenia (ARM)\u003c/th\u003e\n      \u003ctd\u003e5\u003c/td\u003e\n      \u003ctd\u003e1\u003c/td\u003e\n      \u003ctd\u003e2\u003c/td\u003e\n      \u003ctd\u003e9\u003c/td\u003e\n      \u003ctd\u003e12\u003c/td\u003e\n      \u003ctd\u003e6\u003c/td\u003e\n      \u003ctd\u003e0\u003c/td\u003e\n      \u003ctd\u003e0\u003c/td\u003e\n      \u003ctd\u003e0\u003c/td\u003e\n      \u003ctd\u003e0\u003c/td\u003e\n      \u003ctd\u003e11\u003c/td\u003e\n      \u003ctd\u003e1\u003c/td\u003e\n      \u003ctd\u003e2\u003c/td\u003e\n      \u003ctd\u003e9\u003c/td\u003e\n      \u003ctd\u003e12\u003c/td\u003e\n    \u003c/tr\u003e\n    \u003ctr\u003e\n      \u003cth\u003eAustralasia (ANZ) [ANZ]\u003c/th\u003e\n      \u003ctd\u003e2\u003c/td\u003e\n      \u003ctd\u003e3\u003c/td\u003e\n      \u003ctd\u003e4\u003c/td\u003e\n      \u003ctd\u003e5\u003c/td\u003e\n      \u003ctd\u003e12\u003c/td\u003e\n      \u003ctd\u003e0\u003c/td\u003e\n      \u003ctd\u003e0\u003c/td\u003e\n      \u003ctd\u003e0\u003c/td\u003e\n      \u003ctd\u003e0\u003c/td\u003e\n      \u003ctd\u003e0\u003c/td\u003e\n      \u003ctd\u003e2\u003c/td\u003e\n      \u003ctd\u003e3\u003c/td\u003e\n      \u003ctd\u003e4\u003c/td\u003e\n      \u003ctd\u003e5\u003c/td\u003e\n      \u003ctd\u003e12\u003c/td\u003e\n    \u003c/tr\u003e\n  \u003c/tbody\u003e\n\u003c/table\u003e\n\u003c/div\u003e"
          },
          "metadata": {},
          "output_type": "execute_result",
          "execution_count": 43
        }
      ],
      "source": "for col in df.columns:\n    if col[:2] \u003d\u003d \u002701\u0027:\n        df.rename(columns\u003d{col:\u0027Gold\u0027+col[4:]}, inplace\u003dTrue)\n    if col[:2] \u003d\u003d \u002702\u0027:\n        df.rename(columns\u003d{col:\u0027Silver\u0027+col[4:]}, inplace\u003dTrue)\n    if col[:2] \u003d\u003d \u002703\u0027:\n        df.rename(columns\u003d{col:\u0027Bronze\u0027+col[4:]}, inplace\u003dTrue)\n    if col[:1] \u003d\u003d \u0027№ \u0027:\n        df.rename(columns\u003d{col:\u0027#\u0027+col[4:]}, inplace\u003dTrue)\n\ndf.head()",
      "metadata": {
        "pycharm": {
          "metadata": false,
          "name": "#%%\n",
          "is_executing": false
        }
      }
    },
    {
      "cell_type": "markdown",
      "source": "## Querying a Dataframe\n### Boolean Masking\na Numpy way to choose which data will be shown by having a boolean Dataframe or Series\nand have a boolean value in it.\n\nA point where it is true, the data will be retrained, else they are not. (shown as a NaN value)\n\nTo apply the boolean masking, we use `where` function that it takes Boolean Masking and apply it to Dataframe to let us choose which data we will want\nand then returns a new dataframe of the same shape",
      "metadata": {
        "pycharm": {
          "metadata": false,
          "name": "#%% md\n"
        }
      }
    },
    {
      "cell_type": "code",
      "execution_count": 44,
      "outputs": [
        {
          "data": {
            "text/plain": "                         № Summer  Gold  Silver  Bronze  Total  № Winter  \\\nAfghanistan (AFG)             NaN   NaN     NaN     NaN    NaN       NaN   \nAlgeria (ALG)                12.0   5.0     2.0     8.0   15.0       3.0   \nArgentina (ARG)              23.0  18.0    24.0    28.0   70.0      18.0   \nArmenia (ARM)                 5.0   1.0     2.0     9.0   12.0       6.0   \nAustralasia (ANZ) [ANZ]       2.0   3.0     4.0     5.0   12.0       0.0   \n\n                         Gold.1  Silver.1  Bronze.1  Total.1  № Games  Gold.2  \\\nAfghanistan (AFG)           NaN       NaN       NaN      NaN      NaN     NaN   \nAlgeria (ALG)               0.0       0.0       0.0      0.0     15.0     5.0   \nArgentina (ARG)             0.0       0.0       0.0      0.0     41.0    18.0   \nArmenia (ARM)               0.0       0.0       0.0      0.0     11.0     1.0   \nAustralasia (ANZ) [ANZ]     0.0       0.0       0.0      0.0      2.0     3.0   \n\n                         Silver.2  Bronze.2  Combined total  \nAfghanistan (AFG)             NaN       NaN             NaN  \nAlgeria (ALG)                 2.0       8.0            15.0  \nArgentina (ARG)              24.0      28.0            70.0  \nArmenia (ARM)                 2.0       9.0            12.0  \nAustralasia (ANZ) [ANZ]       4.0       5.0            12.0  ",
            "text/html": "\u003cdiv\u003e\n\u003cstyle scoped\u003e\n    .dataframe tbody tr th:only-of-type {\n        vertical-align: middle;\n    }\n\n    .dataframe tbody tr th {\n        vertical-align: top;\n    }\n\n    .dataframe thead th {\n        text-align: right;\n    }\n\u003c/style\u003e\n\u003ctable border\u003d\"1\" class\u003d\"dataframe\"\u003e\n  \u003cthead\u003e\n    \u003ctr style\u003d\"text-align: right;\"\u003e\n      \u003cth\u003e\u003c/th\u003e\n      \u003cth\u003e№ Summer\u003c/th\u003e\n      \u003cth\u003eGold\u003c/th\u003e\n      \u003cth\u003eSilver\u003c/th\u003e\n      \u003cth\u003eBronze\u003c/th\u003e\n      \u003cth\u003eTotal\u003c/th\u003e\n      \u003cth\u003e№ Winter\u003c/th\u003e\n      \u003cth\u003eGold.1\u003c/th\u003e\n      \u003cth\u003eSilver.1\u003c/th\u003e\n      \u003cth\u003eBronze.1\u003c/th\u003e\n      \u003cth\u003eTotal.1\u003c/th\u003e\n      \u003cth\u003e№ Games\u003c/th\u003e\n      \u003cth\u003eGold.2\u003c/th\u003e\n      \u003cth\u003eSilver.2\u003c/th\u003e\n      \u003cth\u003eBronze.2\u003c/th\u003e\n      \u003cth\u003eCombined total\u003c/th\u003e\n    \u003c/tr\u003e\n  \u003c/thead\u003e\n  \u003ctbody\u003e\n    \u003ctr\u003e\n      \u003cth\u003eAfghanistan (AFG)\u003c/th\u003e\n      \u003ctd\u003eNaN\u003c/td\u003e\n      \u003ctd\u003eNaN\u003c/td\u003e\n      \u003ctd\u003eNaN\u003c/td\u003e\n      \u003ctd\u003eNaN\u003c/td\u003e\n      \u003ctd\u003eNaN\u003c/td\u003e\n      \u003ctd\u003eNaN\u003c/td\u003e\n      \u003ctd\u003eNaN\u003c/td\u003e\n      \u003ctd\u003eNaN\u003c/td\u003e\n      \u003ctd\u003eNaN\u003c/td\u003e\n      \u003ctd\u003eNaN\u003c/td\u003e\n      \u003ctd\u003eNaN\u003c/td\u003e\n      \u003ctd\u003eNaN\u003c/td\u003e\n      \u003ctd\u003eNaN\u003c/td\u003e\n      \u003ctd\u003eNaN\u003c/td\u003e\n      \u003ctd\u003eNaN\u003c/td\u003e\n    \u003c/tr\u003e\n    \u003ctr\u003e\n      \u003cth\u003eAlgeria (ALG)\u003c/th\u003e\n      \u003ctd\u003e12.0\u003c/td\u003e\n      \u003ctd\u003e5.0\u003c/td\u003e\n      \u003ctd\u003e2.0\u003c/td\u003e\n      \u003ctd\u003e8.0\u003c/td\u003e\n      \u003ctd\u003e15.0\u003c/td\u003e\n      \u003ctd\u003e3.0\u003c/td\u003e\n      \u003ctd\u003e0.0\u003c/td\u003e\n      \u003ctd\u003e0.0\u003c/td\u003e\n      \u003ctd\u003e0.0\u003c/td\u003e\n      \u003ctd\u003e0.0\u003c/td\u003e\n      \u003ctd\u003e15.0\u003c/td\u003e\n      \u003ctd\u003e5.0\u003c/td\u003e\n      \u003ctd\u003e2.0\u003c/td\u003e\n      \u003ctd\u003e8.0\u003c/td\u003e\n      \u003ctd\u003e15.0\u003c/td\u003e\n    \u003c/tr\u003e\n    \u003ctr\u003e\n      \u003cth\u003eArgentina (ARG)\u003c/th\u003e\n      \u003ctd\u003e23.0\u003c/td\u003e\n      \u003ctd\u003e18.0\u003c/td\u003e\n      \u003ctd\u003e24.0\u003c/td\u003e\n      \u003ctd\u003e28.0\u003c/td\u003e\n      \u003ctd\u003e70.0\u003c/td\u003e\n      \u003ctd\u003e18.0\u003c/td\u003e\n      \u003ctd\u003e0.0\u003c/td\u003e\n      \u003ctd\u003e0.0\u003c/td\u003e\n      \u003ctd\u003e0.0\u003c/td\u003e\n      \u003ctd\u003e0.0\u003c/td\u003e\n      \u003ctd\u003e41.0\u003c/td\u003e\n      \u003ctd\u003e18.0\u003c/td\u003e\n      \u003ctd\u003e24.0\u003c/td\u003e\n      \u003ctd\u003e28.0\u003c/td\u003e\n      \u003ctd\u003e70.0\u003c/td\u003e\n    \u003c/tr\u003e\n    \u003ctr\u003e\n      \u003cth\u003eArmenia (ARM)\u003c/th\u003e\n      \u003ctd\u003e5.0\u003c/td\u003e\n      \u003ctd\u003e1.0\u003c/td\u003e\n      \u003ctd\u003e2.0\u003c/td\u003e\n      \u003ctd\u003e9.0\u003c/td\u003e\n      \u003ctd\u003e12.0\u003c/td\u003e\n      \u003ctd\u003e6.0\u003c/td\u003e\n      \u003ctd\u003e0.0\u003c/td\u003e\n      \u003ctd\u003e0.0\u003c/td\u003e\n      \u003ctd\u003e0.0\u003c/td\u003e\n      \u003ctd\u003e0.0\u003c/td\u003e\n      \u003ctd\u003e11.0\u003c/td\u003e\n      \u003ctd\u003e1.0\u003c/td\u003e\n      \u003ctd\u003e2.0\u003c/td\u003e\n      \u003ctd\u003e9.0\u003c/td\u003e\n      \u003ctd\u003e12.0\u003c/td\u003e\n    \u003c/tr\u003e\n    \u003ctr\u003e\n      \u003cth\u003eAustralasia (ANZ) [ANZ]\u003c/th\u003e\n      \u003ctd\u003e2.0\u003c/td\u003e\n      \u003ctd\u003e3.0\u003c/td\u003e\n      \u003ctd\u003e4.0\u003c/td\u003e\n      \u003ctd\u003e5.0\u003c/td\u003e\n      \u003ctd\u003e12.0\u003c/td\u003e\n      \u003ctd\u003e0.0\u003c/td\u003e\n      \u003ctd\u003e0.0\u003c/td\u003e\n      \u003ctd\u003e0.0\u003c/td\u003e\n      \u003ctd\u003e0.0\u003c/td\u003e\n      \u003ctd\u003e0.0\u003c/td\u003e\n      \u003ctd\u003e2.0\u003c/td\u003e\n      \u003ctd\u003e3.0\u003c/td\u003e\n      \u003ctd\u003e4.0\u003c/td\u003e\n      \u003ctd\u003e5.0\u003c/td\u003e\n      \u003ctd\u003e12.0\u003c/td\u003e\n    \u003c/tr\u003e\n  \u003c/tbody\u003e\n\u003c/table\u003e\n\u003c/div\u003e"
          },
          "metadata": {},
          "output_type": "execute_result",
          "execution_count": 44
        }
      ],
      "source": "only_gold_df \u003d df.where(df[\u0027Gold\u0027] \u003e 0)\nonly_gold_df.head()\n",
      "metadata": {
        "pycharm": {
          "metadata": false,
          "name": "#%%\n",
          "is_executing": false
        }
      }
    }
  ],
  "metadata": {
    "kernelspec": {
      "display_name": "Python 3",
      "language": "python",
      "name": "python3"
    },
    "language_info": {
      "codemirror_mode": {
        "name": "ipython",
        "version": 3
      },
      "file_extension": ".py",
      "mimetype": "text/x-python",
      "name": "python",
      "nbconvert_exporter": "python",
      "pygments_lexer": "ipython3",
      "version": "3.7.2"
    },
    "stem_cell": {
      "cell_type": "raw",
      "source": "",
      "metadata": {
        "pycharm": {
          "metadata": false
        }
      }
    }
  },
  "nbformat": 4,
  "nbformat_minor": 1
}