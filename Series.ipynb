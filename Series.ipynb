{
  "cells": [
    {
      "cell_type": "markdown",
      "metadata": {
        "collapsed": true,
        "pycharm": {
          "name": "#%% md\n"
        }
      },
      "source": [
        "# Series\n",
        "A faster approach to list by Pandas"
      ]
    },
    {
      "cell_type": "code",
      "execution_count": 2,
      "metadata": {
        "pycharm": {
          "is_executing": false,
          "metadata": false,
          "name": "#%%\n"
        }
      },
      "outputs": [
        {
          "name": "stdout",
          "text": [
            "Requirement already satisfied: pandas in /usr/local/lib/python3.7/site-packages (0.24.2)\r\nRequirement already satisfied: pytz\u003e\u003d2011k in /usr/local/lib/python3.7/site-packages (from pandas) (2018.9)\r\nRequirement already satisfied: numpy\u003e\u003d1.12.0 in /usr/local/lib/python3.7/site-packages (from pandas) (1.16.2)\r\nRequirement already satisfied: python-dateutil\u003e\u003d2.5.0 in /usr/local/lib/python3.7/site-packages (from pandas) (2.8.0)\r\nRequirement already satisfied: six\u003e\u003d1.5 in /usr/local/lib/python3.7/site-packages (from python-dateutil\u003e\u003d2.5.0-\u003epandas) (1.12.0)\r\n",
            "Requirement already satisfied: numpy in /usr/local/lib/python3.7/site-packages (1.16.2)\r\n"
          ],
          "output_type": "stream"
        }
      ],
      "source": "# Pandas is for Data Editing\n# Numpy is for mathematics calculation\n\n!pip3 install pandas\nimport pandas as pd\n\n!pip3 install numpy\nimport numpy as np"
    },
    {
      "cell_type": "code",
      "execution_count": 3,
      "metadata": {
        "pycharm": {
          "is_executing": false,
          "metadata": false,
          "name": "#%%\n"
        }
      },
      "outputs": [
        {
          "data": {
            "text/plain": "0    Tiger\n1     Bear\n2    Moose\ndtype: object"
          },
          "metadata": {},
          "output_type": "execute_result",
          "execution_count": 3
        }
      ],
      "source": [
        "animals \u003d [\u0027Tiger\u0027, \u0027Bear\u0027, \u0027Moose\u0027]\n",
        "pd.Series(animals)"
      ]
    },
    {
      "cell_type": "code",
      "execution_count": 4,
      "metadata": {
        "pycharm": {
          "is_executing": false,
          "metadata": false,
          "name": "#%% \n"
        }
      },
      "outputs": [
        {
          "data": {
            "text/plain": "0    1\n1    2\n2    3\ndtype: int64"
          },
          "metadata": {},
          "output_type": "execute_result",
          "execution_count": 4
        }
      ],
      "source": [
        "numbers \u003d [1,2,3]\n",
        "pd.Series(numbers)"
      ]
    },
    {
      "cell_type": "markdown",
      "metadata": {
        "pycharm": {
          "metadata": false,
          "name": "#%% md\n"
        }
      },
      "source": [
        "## Type conversion for Series\n"
      ]
    },
    {
      "cell_type": "code",
      "execution_count": 5,
      "metadata": {
        "pycharm": {
          "is_executing": false,
          "metadata": false,
          "name": "#%%\n"
        }
      },
      "outputs": [
        {
          "data": {
            "text/plain": "0    Tiger\n1     Bear\n2     None\ndtype: object"
          },
          "metadata": {},
          "output_type": "execute_result",
          "execution_count": 5
        }
      ],
      "source": [
        "# animals with None value\n",
        "animals \u003d [\u0027Tiger\u0027, \u0027Bear\u0027, None]\n",
        "pd.Series(animals)"
      ]
    },
    {
      "cell_type": "code",
      "execution_count": 6,
      "metadata": {
        "pycharm": {
          "is_executing": false,
          "metadata": false,
          "name": "#%%\n"
        }
      },
      "outputs": [
        {
          "data": {
            "text/plain": "0    1.0\n1    2.0\n2    NaN\ndtype: float64"
          },
          "metadata": {},
          "output_type": "execute_result",
          "execution_count": 6
        }
      ],
      "source": "# numbers with None value\nnumbers \u003d [1,2,None]\npd.Series(numbers)\n# It chose floating point and set None value to NaN (not a number)\n"
    },
    {
      "cell_type": "markdown",
      "source": "to check if the nan value is",
      "metadata": {
        "pycharm": {
          "metadata": false,
          "name": "#%% md\n",
          "is_executing": false
        }
      }
    },
    {
      "cell_type": "code",
      "execution_count": null,
      "metadata": {
        "pycharm": {
          "is_executing": true,
          "metadata": false,
          "name": "#%%\n"
        }
      },
      "outputs": [],
      "source": "np.nan \u003d np.nan # Returns False\nnp.isnan(np.nan) # Returns True\n"
    },
    {
      "cell_type": "markdown",
      "metadata": {
        "pycharm": {
          "metadata": false,
          "name": "#%% md\n"
        }
      },
      "source": [
        "## Dictionary to Series"
      ]
    },
    {
      "cell_type": "code",
      "execution_count": 16,
      "metadata": {
        "pycharm": {
          "is_executing": false,
          "metadata": false,
          "name": "#%%\n"
        }
      },
      "outputs": [
        {
          "data": {
            "text/plain": "Archery           Bhutan\nGolf            Scotland\nSumo               Japan\nTaekwondo    South Korea\ndtype: object"
          },
          "metadata": {},
          "output_type": "execute_result",
          "execution_count": 16
        }
      ],
      "source": "sports \u003d {\u0027Archery\u0027: \u0027Bhutan\u0027,\n          \u0027Golf\u0027: \u0027Scotland\u0027,\n          \u0027Sumo\u0027:\u0027Japan\u0027,\n          \u0027Taekwondo\u0027:\u0027South Korea\u0027}\ns \u003d pd.Series(sports)\ns\n"
    },
    {
      "cell_type": "code",
      "execution_count": 17,
      "outputs": [
        {
          "data": {
            "text/plain": "Index([\u0027Archery\u0027, \u0027Golf\u0027, \u0027Sumo\u0027, \u0027Taekwondo\u0027], dtype\u003d\u0027object\u0027)"
          },
          "metadata": {},
          "output_type": "execute_result",
          "execution_count": 17
        }
      ],
      "source": "s.index\n",
      "metadata": {
        "pycharm": {
          "metadata": false,
          "name": "#%%\n",
          "is_executing": false
        }
      }
    },
    {
      "cell_type": "markdown",
      "source": "### Explicitly use of index name\n",
      "metadata": {
        "pycharm": {
          "metadata": false,
          "name": "#%% md\n"
        }
      }
    },
    {
      "cell_type": "code",
      "execution_count": 18,
      "outputs": [
        {
          "data": {
            "text/plain": "India          Tiger\nAmerica         Golf\nCanada     Taekwondo\ndtype: object"
          },
          "metadata": {},
          "output_type": "execute_result",
          "execution_count": 18
        }
      ],
      "source": "s1 \u003d pd.Series([\u0027Tiger\u0027, \u0027Golf\u0027, \u0027Taekwondo\u0027],\n               index\u003d[\u0027India\u0027, \u0027America\u0027, \u0027Canada\u0027])\ns1",
      "metadata": {
        "pycharm": {
          "metadata": false,
          "name": "#%%\n",
          "is_executing": false
        }
      }
    },
    {
      "cell_type": "markdown",
      "source": "## Quering a Series\nyou can queries it by its index position or the index label\n\n- to query with index position **starting with zero**, use `iloc()` attribute\n- to query with index label, use `loc()` attribute\n\nyou should explicitly tell that you will use either index position **or** a label\n",
      "metadata": {
        "pycharm": {
          "metadata": false,
          "name": "#%% md\n"
        }
      }
    },
    {
      "cell_type": "code",
      "execution_count": 22,
      "outputs": [
        {
          "data": {
            "text/plain": "\u0027South Korea\u0027"
          },
          "metadata": {},
          "output_type": "execute_result",
          "execution_count": 22
        }
      ],
      "source": "s.iloc[3]\n\n# or you can use\ns[3]",
      "metadata": {
        "pycharm": {
          "metadata": false,
          "name": "#%%\n",
          "is_executing": false
        }
      }
    },
    {
      "cell_type": "code",
      "execution_count": 23,
      "outputs": [
        {
          "data": {
            "text/plain": "\u0027Scotland\u0027"
          },
          "metadata": {},
          "output_type": "execute_result",
          "execution_count": 23
        }
      ],
      "source": "s.loc[\u0027Golf\u0027]\n\n# or you can use\ns[\u0027Golf\u0027]",
      "metadata": {
        "pycharm": {
          "metadata": false,
          "name": "#%%\n",
          "is_executing": false
        }
      }
    },
    {
      "cell_type": "markdown",
      "source": "## Vectorization\nWe can use Numpy to calculate the Mathematics in the Series, including the sum function.\nBecause of the Vectorization does better calculations than traditional calculations from Python\n\n### Calculate the sum with `np.sum()`",
      "metadata": {
        "pycharm": {
          "metadata": false
        }
      }
    },
    {
      "cell_type": "code",
      "execution_count": 26,
      "outputs": [
        {
          "data": {
            "text/plain": "333"
          },
          "metadata": {},
          "output_type": "execute_result",
          "execution_count": 26
        }
      ],
      "source": "s \u003d pd.Series([100,120,110,3])\ntotal \u003d np.sum(s)\ntotal",
      "metadata": {
        "pycharm": {
          "metadata": false,
          "name": "#%%\n",
          "is_executing": false
        }
      }
    },
    {
      "cell_type": "markdown",
      "source": "### Show some of the values inside of the data frame with `.head()`",
      "metadata": {
        "pycharm": {
          "metadata": false,
          "name": "#%% md\n",
          "is_executing": false
        }
      }
    },
    {
      "cell_type": "code",
      "execution_count": 37,
      "outputs": [
        {
          "data": {
            "text/plain": "0    588\n1    866\n2    419\n3    458\n4    214\ndtype: int64"
          },
          "metadata": {},
          "output_type": "execute_result",
          "execution_count": 37
        }
      ],
      "source": "s \u003d pd.Series(np.random.randint(0,1000,10000))\ns.head()",
      "metadata": {
        "pycharm": {
          "metadata": false,
          "name": "#%%\n",
          "is_executing": false
        }
      }
    },
    {
      "cell_type": "code",
      "execution_count": 30,
      "outputs": [
        {
          "data": {
            "text/plain": "10000"
          },
          "metadata": {},
          "output_type": "execute_result",
          "execution_count": 30
        }
      ],
      "source": "# Show how long is the Series with `len()`\nlen(s)",
      "metadata": {
        "pycharm": {
          "metadata": false,
          "name": "#%%\n",
          "is_executing": false
        }
      }
    },
    {
      "cell_type": "markdown",
      "source": "## Vectorization Speed Test\nUse `timeit` (Jupyter Magic Function) from the Jupyter to time how long does it take to compute\n\nJupyter Magic Function is indicated by a `%`. But we are using `%%` for Cellular Magic Function\n\nAs you can see down below, Vectorization is faster",
      "metadata": {
        "pycharm": {
          "metadata": false
        }
      }
    },
    {
      "cell_type": "markdown",
      "source": "### Without vectorization",
      "metadata": {
        "pycharm": {
          "metadata": false,
          "name": "#%% md\n",
          "is_executing": false
        }
      }
    },
    {
      "cell_type": "code",
      "execution_count": 42,
      "outputs": [
        {
          "name": "stdout",
          "text": [
            "1.67 ms ± 129 µs per loop (mean ± std. dev. of 7 runs, 100 loops each)\n"
          ],
          "output_type": "stream"
        }
      ],
      "source": "%%timeit -n 100\ntotal \u003d 0\nfor i in s:\n    total +\u003d i",
      "metadata": {
        "pycharm": {
          "metadata": false,
          "name": "#%%\n",
          "is_executing": false
        }
      }
    },
    {
      "cell_type": "markdown",
      "source": "### With vectorization",
      "metadata": {
        "pycharm": {
          "metadata": false,
          "name": "#%% md\n",
          "is_executing": false
        }
      }
    },
    {
      "cell_type": "code",
      "execution_count": 44,
      "outputs": [
        {
          "name": "stdout",
          "text": [
            "195 µs ± 65.2 µs per loop (mean ± std. dev. of 7 runs, 100 loops each)\n"
          ],
          "output_type": "stream"
        }
      ],
      "source": "%%timeit -n 100\ntotal \u003d np.sum(s)\ntotal",
      "metadata": {
        "pycharm": {
          "metadata": false,
          "name": "#%%\n",
          "is_executing": false
        }
      }
    },
    {
      "cell_type": "markdown",
      "source": "## Broadcasting\nDealing with all of the data in the series",
      "metadata": {
        "pycharm": {
          "metadata": false
        }
      }
    },
    {
      "cell_type": "code",
      "execution_count": 45,
      "outputs": [
        {
          "data": {
            "text/plain": "0    590\n1    868\n2    421\n3    460\n4    216\ndtype: int64"
          },
          "metadata": {},
          "output_type": "execute_result",
          "execution_count": 45
        }
      ],
      "source": "s +\u003d 2\ns.head()\n",
      "metadata": {
        "pycharm": {
          "metadata": false,
          "name": "#%%\n",
          "is_executing": false
        }
      }
    }
  ],
  "metadata": {
    "kernelspec": {
      "display_name": "Python 3",
      "language": "python",
      "name": "python3"
    },
    "language_info": {
      "codemirror_mode": {
        "name": "ipython",
        "version": 3
      },
      "file_extension": ".py",
      "mimetype": "text/x-python",
      "name": "python",
      "nbconvert_exporter": "python",
      "pygments_lexer": "ipython3",
      "version": "3.7.2"
    }
  },
  "nbformat": 4,
  "nbformat_minor": 1
}